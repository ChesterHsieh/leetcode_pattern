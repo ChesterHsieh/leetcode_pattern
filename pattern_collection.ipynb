{
 "cells": [
  {
   "cell_type": "markdown",
   "id": "d87876b5-f631-4fc5-b9e8-b6ad8285a323",
   "metadata": {},
   "source": [
    "# 日程安排"
   ]
  },
  {
   "cell_type": "markdown",
   "id": "cc04b707-022b-461a-8c0c-7f6387f82624",
   "metadata": {},
   "source": [
    "相關連結\n",
    "https://zhuanlan.zhihu.com/p/126546914"
   ]
  },
  {
   "cell_type": "markdown",
   "id": "bb40b71e-96de-48f5-a20c-955739ef85cd",
   "metadata": {},
   "source": [
    "dfs ,bfs 基本模板 2/21 \n",
    "heapq 2/20\n",
    "bisect 2/22\n",
    "dp 問題分類\n",
    "线性DP；2/22\n",
    "区间DP；2/22\n",
    "背包DP；2/23\n",
    "树形DP；2/23\n",
    "状态压缩DP；2/24\n",
    "数位DP；2/24\n",
    "计数型DP；2/21\n",
    "递推型DP；2/21\n",
    "概率型DP；2/25\n",
    "博弈型DP；2/25\n",
    "记忆化搜索；2/25\n",
    "\n",
    "\n"
   ]
  },
  {
   "cell_type": "code",
   "execution_count": 67,
   "id": "635d7f5d-9ec2-4761-a373-e21ff94eb424",
   "metadata": {},
   "outputs": [],
   "source": [
    "from typing import Optional\n",
    "import heapq"
   ]
  },
  {
   "cell_type": "markdown",
   "id": "588c7e76-81f7-418a-b49f-1002635d5795",
   "metadata": {},
   "source": [
    "# Infra"
   ]
  },
  {
   "cell_type": "code",
   "execution_count": 46,
   "id": "f551c39f-d3db-4540-a259-5ac87ca92332",
   "metadata": {},
   "outputs": [],
   "source": [
    "class TreeNode:\n",
    "    def __init__(self, val=0, left=None, right=None):\n",
    "        self.val = val\n",
    "        self.left = left\n",
    "        self.right = right"
   ]
  },
  {
   "cell_type": "code",
   "execution_count": 55,
   "id": "185d2a4b-3082-4576-878b-85773c21324a",
   "metadata": {},
   "outputs": [],
   "source": [
    "def list_to_tree(ls):\n",
    "    if not ls:\n",
    "        return TreeNode(None)\n",
    "    i = 0\n",
    "    root = TreeNode(ls[i])\n",
    "    tmp_queue = [root]\n",
    "    while tmp_queue:\n",
    "        i += 1\n",
    "        node = tmp_queue.pop()\n",
    "        if not node.val:\n",
    "            continue\n",
    "\n",
    "        if 2*i -1 >= len(ls):\n",
    "            return root\n",
    "        node.left = TreeNode(ls[2*i-1])\n",
    "        tmp_queue.append(node.left)\n",
    "\n",
    "        if 2*i >= len(ls):\n",
    "            return root\n",
    "        node.right = TreeNode(ls[2*i])\n",
    "        tmp_queue.append(node.right)\n",
    "    return root"
   ]
  },
  {
   "cell_type": "code",
   "execution_count": 60,
   "id": "46c31591-b1fd-4bf2-b2d6-62b824dec4de",
   "metadata": {},
   "outputs": [],
   "source": [
    "null = None"
   ]
  },
  {
   "cell_type": "markdown",
   "id": "19d53a8d-dce4-4907-a639-c87fe66d009b",
   "metadata": {},
   "source": [
    "# BFS"
   ]
  },
  {
   "cell_type": "markdown",
   "id": "228edb7a-00e9-42cf-b329-58016e174104",
   "metadata": {
    "tags": []
   },
   "source": [
    "## Q617"
   ]
  },
  {
   "cell_type": "code",
   "execution_count": 56,
   "id": "5e68ba42-1d33-410a-b173-3b392dfa57d6",
   "metadata": {
    "tags": []
   },
   "outputs": [],
   "source": [
    "root1 = list_to_tree([1,3,2,5])\n",
    "root2 = list_to_tree([2,1,3,null,4,null,7])"
   ]
  },
  {
   "cell_type": "code",
   "execution_count": 59,
   "id": "451effbd-071f-41c6-84a0-b0c62a0484d6",
   "metadata": {},
   "outputs": [],
   "source": [
    "root2.left.left"
   ]
  },
  {
   "cell_type": "code",
   "execution_count": null,
   "id": "123b4476-568e-4675-ae3e-172d104b12d0",
   "metadata": {},
   "outputs": [],
   "source": []
  },
  {
   "cell_type": "code",
   "execution_count": 58,
   "id": "e44c083d-5174-4679-86b6-072b52656705",
   "metadata": {},
   "outputs": [
    {
     "ename": "TypeError",
     "evalue": "unsupported operand type(s) for +: 'int' and 'TreeNode'",
     "output_type": "error",
     "traceback": [
      "\u001b[0;31m---------------------------------------------------------------------------\u001b[0m",
      "\u001b[0;31mTypeError\u001b[0m                                 Traceback (most recent call last)",
      "\u001b[0;32m/var/folders/ms/mwj7bxrn3js37ntrky00lpk00000gn/T/ipykernel_61249/357635086.py\u001b[0m in \u001b[0;36m<module>\u001b[0;34m\u001b[0m\n\u001b[1;32m     27\u001b[0m         \u001b[0;32mreturn\u001b[0m \u001b[0mnew_node\u001b[0m\u001b[0;34m\u001b[0m\u001b[0;34m\u001b[0m\u001b[0m\n\u001b[1;32m     28\u001b[0m \u001b[0ms\u001b[0m \u001b[0;34m=\u001b[0m \u001b[0mSolution\u001b[0m\u001b[0;34m(\u001b[0m\u001b[0;34m)\u001b[0m\u001b[0;34m\u001b[0m\u001b[0;34m\u001b[0m\u001b[0m\n\u001b[0;32m---> 29\u001b[0;31m \u001b[0mt\u001b[0m \u001b[0;34m=\u001b[0m \u001b[0ms\u001b[0m\u001b[0;34m.\u001b[0m\u001b[0mmergeTrees\u001b[0m\u001b[0;34m(\u001b[0m\u001b[0mroot1\u001b[0m\u001b[0;34m,\u001b[0m\u001b[0mroot2\u001b[0m\u001b[0;34m)\u001b[0m\u001b[0;34m\u001b[0m\u001b[0;34m\u001b[0m\u001b[0m\n\u001b[0m",
      "\u001b[0;32m/var/folders/ms/mwj7bxrn3js37ntrky00lpk00000gn/T/ipykernel_61249/357635086.py\u001b[0m in \u001b[0;36mmergeTrees\u001b[0;34m(self, root1, root2)\u001b[0m\n\u001b[1;32m     22\u001b[0m         \u001b[0mroot2_right\u001b[0m \u001b[0;34m=\u001b[0m \u001b[0mroot2\u001b[0m\u001b[0;34m.\u001b[0m\u001b[0mright\u001b[0m \u001b[0;32mif\u001b[0m \u001b[0mroot2\u001b[0m \u001b[0;32melse\u001b[0m \u001b[0;32mNone\u001b[0m\u001b[0;34m\u001b[0m\u001b[0;34m\u001b[0m\u001b[0m\n\u001b[1;32m     23\u001b[0m         \u001b[0;31m# merging the Left Subtree\u001b[0m\u001b[0;34m\u001b[0m\u001b[0;34m\u001b[0m\u001b[0m\n\u001b[0;32m---> 24\u001b[0;31m         \u001b[0mnew_node\u001b[0m\u001b[0;34m.\u001b[0m\u001b[0mright\u001b[0m \u001b[0;34m=\u001b[0m \u001b[0mself\u001b[0m\u001b[0;34m.\u001b[0m\u001b[0mmergeTrees\u001b[0m\u001b[0;34m(\u001b[0m\u001b[0mroot1_right\u001b[0m\u001b[0;34m,\u001b[0m \u001b[0mroot2_right\u001b[0m\u001b[0;34m)\u001b[0m\u001b[0;34m\u001b[0m\u001b[0;34m\u001b[0m\u001b[0m\n\u001b[0m\u001b[1;32m     25\u001b[0m \u001b[0;34m\u001b[0m\u001b[0m\n\u001b[1;32m     26\u001b[0m         \u001b[0;31m# return the Node created\u001b[0m\u001b[0;34m\u001b[0m\u001b[0;34m\u001b[0m\u001b[0m\n",
      "\u001b[0;32m/var/folders/ms/mwj7bxrn3js37ntrky00lpk00000gn/T/ipykernel_61249/357635086.py\u001b[0m in \u001b[0;36mmergeTrees\u001b[0;34m(self, root1, root2)\u001b[0m\n\u001b[1;32m     16\u001b[0m         \u001b[0mroot2_left\u001b[0m \u001b[0;34m=\u001b[0m \u001b[0mroot2\u001b[0m\u001b[0;34m.\u001b[0m\u001b[0mleft\u001b[0m \u001b[0;32mif\u001b[0m \u001b[0mroot2\u001b[0m \u001b[0;32melse\u001b[0m \u001b[0;32mNone\u001b[0m\u001b[0;34m\u001b[0m\u001b[0;34m\u001b[0m\u001b[0m\n\u001b[1;32m     17\u001b[0m         \u001b[0;31m# merging the Left Subtree\u001b[0m\u001b[0;34m\u001b[0m\u001b[0;34m\u001b[0m\u001b[0m\n\u001b[0;32m---> 18\u001b[0;31m         \u001b[0mnew_node\u001b[0m\u001b[0;34m.\u001b[0m\u001b[0mleft\u001b[0m \u001b[0;34m=\u001b[0m \u001b[0mself\u001b[0m\u001b[0;34m.\u001b[0m\u001b[0mmergeTrees\u001b[0m\u001b[0;34m(\u001b[0m\u001b[0mroot1_left\u001b[0m\u001b[0;34m,\u001b[0m \u001b[0mroot2_left\u001b[0m\u001b[0;34m)\u001b[0m\u001b[0;34m\u001b[0m\u001b[0;34m\u001b[0m\u001b[0m\n\u001b[0m\u001b[1;32m     19\u001b[0m \u001b[0;34m\u001b[0m\u001b[0m\n\u001b[1;32m     20\u001b[0m         \u001b[0;31m# Fetching the Right Subtree Nodes\u001b[0m\u001b[0;34m\u001b[0m\u001b[0;34m\u001b[0m\u001b[0m\n",
      "\u001b[0;32m/var/folders/ms/mwj7bxrn3js37ntrky00lpk00000gn/T/ipykernel_61249/357635086.py\u001b[0m in \u001b[0;36mmergeTrees\u001b[0;34m(self, root1, root2)\u001b[0m\n\u001b[1;32m     10\u001b[0m \u001b[0;34m\u001b[0m\u001b[0m\n\u001b[1;32m     11\u001b[0m         \u001b[0;31m# creating a new node off of these values\u001b[0m\u001b[0;34m\u001b[0m\u001b[0;34m\u001b[0m\u001b[0m\n\u001b[0;32m---> 12\u001b[0;31m         \u001b[0mnew_node\u001b[0m \u001b[0;34m=\u001b[0m \u001b[0mTreeNode\u001b[0m\u001b[0;34m(\u001b[0m\u001b[0mv1\u001b[0m\u001b[0;34m+\u001b[0m\u001b[0mv2\u001b[0m\u001b[0;34m)\u001b[0m\u001b[0;34m\u001b[0m\u001b[0;34m\u001b[0m\u001b[0m\n\u001b[0m\u001b[1;32m     13\u001b[0m \u001b[0;34m\u001b[0m\u001b[0m\n\u001b[1;32m     14\u001b[0m         \u001b[0;31m# Fetching the Left Subtree Nodes\u001b[0m\u001b[0;34m\u001b[0m\u001b[0;34m\u001b[0m\u001b[0m\n",
      "\u001b[0;31mTypeError\u001b[0m: unsupported operand type(s) for +: 'int' and 'TreeNode'"
     ]
    }
   ],
   "source": [
    "class Solution:\n",
    "    def mergeTrees(self, root1: Optional[TreeNode], root2: Optional[TreeNode]) -> Optional[TreeNode]:\n",
    "        # base case\n",
    "        if root1 is None and root2 is None:\n",
    "            return None\n",
    "        \n",
    "        # catching the values of root nodes, if root absert, assign 0\n",
    "        v1 = root1.val if root1 else 0\n",
    "        v2 = root2.val if root2 else 0\n",
    "        \n",
    "        # creating a new node off of these values\n",
    "        new_node = TreeNode(v1+v2)\n",
    "        \n",
    "        # Fetching the Left Subtree Nodes\n",
    "        root1_left = root1.left if root1 else None\n",
    "        root2_left = root2.left if root2 else None\n",
    "        # merging the Left Subtree\n",
    "        new_node.left = self.mergeTrees(root1_left, root2_left)\n",
    "        \n",
    "        # Fetching the Right Subtree Nodes\n",
    "        root1_right = root1.right if root1 else None\n",
    "        root2_right = root2.right if root2 else None\n",
    "        # merging the Left Subtree\n",
    "        new_node.right = self.mergeTrees(root1_right, root2_right)\n",
    "        \n",
    "        # return the Node created\n",
    "        return new_node\n",
    "s = Solution()\n",
    "t = s.mergeTrees(root1,root2)"
   ]
  },
  {
   "cell_type": "code",
   "execution_count": null,
   "id": "66a1c19e-a1e7-4ea6-9dc9-6ebfbca426be",
   "metadata": {},
   "outputs": [],
   "source": []
  },
  {
   "cell_type": "markdown",
   "id": "694b8afe-c6dc-4e00-8450-c4a48c8be0c4",
   "metadata": {},
   "source": [
    "# DFS"
   ]
  },
  {
   "cell_type": "markdown",
   "id": "031949ed-c313-4d8d-b31f-e2ec0086e152",
   "metadata": {},
   "source": [
    "## Q1302"
   ]
  },
  {
   "cell_type": "code",
   "execution_count": 61,
   "id": "bbd43486-966b-4cae-bd81-5f4ae2da68ed",
   "metadata": {},
   "outputs": [],
   "source": [
    "root = list_to_tree([1,2,3,4,5,null,6,7,null,null,null,null,8])"
   ]
  },
  {
   "cell_type": "code",
   "execution_count": 62,
   "id": "238a6a89-8883-48d9-92dd-ed76714a6e3f",
   "metadata": {},
   "outputs": [],
   "source": [
    "def deepestLeavesSum(root):\n",
    "    \"\"\"\n",
    "    :type root: TreeNode\n",
    "    :rtype: int\n",
    "    \"\"\"\n",
    "    def dfs1(root):\n",
    "        if not root: return 0\n",
    "        return max(dfs1(root.left), dfs1(root.right))+1\n",
    "    def dfs2(root, dep):\n",
    "        if not root: return\n",
    "        if dep == max_depth: total+= root.val\n",
    "        dfs2(root.left, dep+1)\n",
    "        dfs2(root.right, dep+1)\n",
    "    total=0\n",
    "    max_depth = dfs1(root)\n",
    "    dfs2(root, 1)\n",
    "    return max_depth"
   ]
  },
  {
   "cell_type": "code",
   "execution_count": 63,
   "id": "f78a8315-e2dd-418f-87d8-bf6b3298f7e8",
   "metadata": {},
   "outputs": [
    {
     "ename": "UnboundLocalError",
     "evalue": "local variable 'total' referenced before assignment",
     "output_type": "error",
     "traceback": [
      "\u001b[0;31m---------------------------------------------------------------------------\u001b[0m",
      "\u001b[0;31mUnboundLocalError\u001b[0m                         Traceback (most recent call last)",
      "\u001b[0;32m/var/folders/ms/mwj7bxrn3js37ntrky00lpk00000gn/T/ipykernel_61249/865244545.py\u001b[0m in \u001b[0;36m<module>\u001b[0;34m\u001b[0m\n\u001b[0;32m----> 1\u001b[0;31m \u001b[0mdeepestLeavesSum\u001b[0m\u001b[0;34m(\u001b[0m\u001b[0mroot\u001b[0m\u001b[0;34m)\u001b[0m\u001b[0;34m\u001b[0m\u001b[0;34m\u001b[0m\u001b[0m\n\u001b[0m",
      "\u001b[0;32m/var/folders/ms/mwj7bxrn3js37ntrky00lpk00000gn/T/ipykernel_61249/1557914204.py\u001b[0m in \u001b[0;36mdeepestLeavesSum\u001b[0;34m(root)\u001b[0m\n\u001b[1;32m     14\u001b[0m     \u001b[0mtotal\u001b[0m\u001b[0;34m=\u001b[0m\u001b[0;36m0\u001b[0m\u001b[0;34m\u001b[0m\u001b[0;34m\u001b[0m\u001b[0m\n\u001b[1;32m     15\u001b[0m     \u001b[0mmax_depth\u001b[0m \u001b[0;34m=\u001b[0m \u001b[0mdfs1\u001b[0m\u001b[0;34m(\u001b[0m\u001b[0mroot\u001b[0m\u001b[0;34m)\u001b[0m\u001b[0;34m\u001b[0m\u001b[0;34m\u001b[0m\u001b[0m\n\u001b[0;32m---> 16\u001b[0;31m     \u001b[0mdfs2\u001b[0m\u001b[0;34m(\u001b[0m\u001b[0mroot\u001b[0m\u001b[0;34m,\u001b[0m \u001b[0;36m1\u001b[0m\u001b[0;34m)\u001b[0m\u001b[0;34m\u001b[0m\u001b[0;34m\u001b[0m\u001b[0m\n\u001b[0m\u001b[1;32m     17\u001b[0m     \u001b[0;32mreturn\u001b[0m \u001b[0mmax_depth\u001b[0m\u001b[0;34m\u001b[0m\u001b[0;34m\u001b[0m\u001b[0m\n",
      "\u001b[0;32m/var/folders/ms/mwj7bxrn3js37ntrky00lpk00000gn/T/ipykernel_61249/1557914204.py\u001b[0m in \u001b[0;36mdfs2\u001b[0;34m(root, dep)\u001b[0m\n\u001b[1;32m     11\u001b[0m         \u001b[0;32mif\u001b[0m \u001b[0mdep\u001b[0m \u001b[0;34m==\u001b[0m \u001b[0mmax_depth\u001b[0m\u001b[0;34m:\u001b[0m \u001b[0mtotal\u001b[0m\u001b[0;34m+=\u001b[0m \u001b[0mroot\u001b[0m\u001b[0;34m.\u001b[0m\u001b[0mval\u001b[0m\u001b[0;34m\u001b[0m\u001b[0;34m\u001b[0m\u001b[0m\n\u001b[1;32m     12\u001b[0m         \u001b[0mdfs2\u001b[0m\u001b[0;34m(\u001b[0m\u001b[0mroot\u001b[0m\u001b[0;34m.\u001b[0m\u001b[0mleft\u001b[0m\u001b[0;34m,\u001b[0m \u001b[0mdep\u001b[0m\u001b[0;34m+\u001b[0m\u001b[0;36m1\u001b[0m\u001b[0;34m)\u001b[0m\u001b[0;34m\u001b[0m\u001b[0;34m\u001b[0m\u001b[0m\n\u001b[0;32m---> 13\u001b[0;31m         \u001b[0mdfs2\u001b[0m\u001b[0;34m(\u001b[0m\u001b[0mroot\u001b[0m\u001b[0;34m.\u001b[0m\u001b[0mright\u001b[0m\u001b[0;34m,\u001b[0m \u001b[0mdep\u001b[0m\u001b[0;34m+\u001b[0m\u001b[0;36m1\u001b[0m\u001b[0;34m)\u001b[0m\u001b[0;34m\u001b[0m\u001b[0;34m\u001b[0m\u001b[0m\n\u001b[0m\u001b[1;32m     14\u001b[0m     \u001b[0mtotal\u001b[0m\u001b[0;34m=\u001b[0m\u001b[0;36m0\u001b[0m\u001b[0;34m\u001b[0m\u001b[0;34m\u001b[0m\u001b[0m\n\u001b[1;32m     15\u001b[0m     \u001b[0mmax_depth\u001b[0m \u001b[0;34m=\u001b[0m \u001b[0mdfs1\u001b[0m\u001b[0;34m(\u001b[0m\u001b[0mroot\u001b[0m\u001b[0;34m)\u001b[0m\u001b[0;34m\u001b[0m\u001b[0;34m\u001b[0m\u001b[0m\n",
      "\u001b[0;32m/var/folders/ms/mwj7bxrn3js37ntrky00lpk00000gn/T/ipykernel_61249/1557914204.py\u001b[0m in \u001b[0;36mdfs2\u001b[0;34m(root, dep)\u001b[0m\n\u001b[1;32m     11\u001b[0m         \u001b[0;32mif\u001b[0m \u001b[0mdep\u001b[0m \u001b[0;34m==\u001b[0m \u001b[0mmax_depth\u001b[0m\u001b[0;34m:\u001b[0m \u001b[0mtotal\u001b[0m\u001b[0;34m+=\u001b[0m \u001b[0mroot\u001b[0m\u001b[0;34m.\u001b[0m\u001b[0mval\u001b[0m\u001b[0;34m\u001b[0m\u001b[0;34m\u001b[0m\u001b[0m\n\u001b[1;32m     12\u001b[0m         \u001b[0mdfs2\u001b[0m\u001b[0;34m(\u001b[0m\u001b[0mroot\u001b[0m\u001b[0;34m.\u001b[0m\u001b[0mleft\u001b[0m\u001b[0;34m,\u001b[0m \u001b[0mdep\u001b[0m\u001b[0;34m+\u001b[0m\u001b[0;36m1\u001b[0m\u001b[0;34m)\u001b[0m\u001b[0;34m\u001b[0m\u001b[0;34m\u001b[0m\u001b[0m\n\u001b[0;32m---> 13\u001b[0;31m         \u001b[0mdfs2\u001b[0m\u001b[0;34m(\u001b[0m\u001b[0mroot\u001b[0m\u001b[0;34m.\u001b[0m\u001b[0mright\u001b[0m\u001b[0;34m,\u001b[0m \u001b[0mdep\u001b[0m\u001b[0;34m+\u001b[0m\u001b[0;36m1\u001b[0m\u001b[0;34m)\u001b[0m\u001b[0;34m\u001b[0m\u001b[0;34m\u001b[0m\u001b[0m\n\u001b[0m\u001b[1;32m     14\u001b[0m     \u001b[0mtotal\u001b[0m\u001b[0;34m=\u001b[0m\u001b[0;36m0\u001b[0m\u001b[0;34m\u001b[0m\u001b[0;34m\u001b[0m\u001b[0m\n\u001b[1;32m     15\u001b[0m     \u001b[0mmax_depth\u001b[0m \u001b[0;34m=\u001b[0m \u001b[0mdfs1\u001b[0m\u001b[0;34m(\u001b[0m\u001b[0mroot\u001b[0m\u001b[0;34m)\u001b[0m\u001b[0;34m\u001b[0m\u001b[0;34m\u001b[0m\u001b[0m\n",
      "\u001b[0;32m/var/folders/ms/mwj7bxrn3js37ntrky00lpk00000gn/T/ipykernel_61249/1557914204.py\u001b[0m in \u001b[0;36mdfs2\u001b[0;34m(root, dep)\u001b[0m\n\u001b[1;32m     11\u001b[0m         \u001b[0;32mif\u001b[0m \u001b[0mdep\u001b[0m \u001b[0;34m==\u001b[0m \u001b[0mmax_depth\u001b[0m\u001b[0;34m:\u001b[0m \u001b[0mtotal\u001b[0m\u001b[0;34m+=\u001b[0m \u001b[0mroot\u001b[0m\u001b[0;34m.\u001b[0m\u001b[0mval\u001b[0m\u001b[0;34m\u001b[0m\u001b[0;34m\u001b[0m\u001b[0m\n\u001b[1;32m     12\u001b[0m         \u001b[0mdfs2\u001b[0m\u001b[0;34m(\u001b[0m\u001b[0mroot\u001b[0m\u001b[0;34m.\u001b[0m\u001b[0mleft\u001b[0m\u001b[0;34m,\u001b[0m \u001b[0mdep\u001b[0m\u001b[0;34m+\u001b[0m\u001b[0;36m1\u001b[0m\u001b[0;34m)\u001b[0m\u001b[0;34m\u001b[0m\u001b[0;34m\u001b[0m\u001b[0m\n\u001b[0;32m---> 13\u001b[0;31m         \u001b[0mdfs2\u001b[0m\u001b[0;34m(\u001b[0m\u001b[0mroot\u001b[0m\u001b[0;34m.\u001b[0m\u001b[0mright\u001b[0m\u001b[0;34m,\u001b[0m \u001b[0mdep\u001b[0m\u001b[0;34m+\u001b[0m\u001b[0;36m1\u001b[0m\u001b[0;34m)\u001b[0m\u001b[0;34m\u001b[0m\u001b[0;34m\u001b[0m\u001b[0m\n\u001b[0m\u001b[1;32m     14\u001b[0m     \u001b[0mtotal\u001b[0m\u001b[0;34m=\u001b[0m\u001b[0;36m0\u001b[0m\u001b[0;34m\u001b[0m\u001b[0;34m\u001b[0m\u001b[0m\n\u001b[1;32m     15\u001b[0m     \u001b[0mmax_depth\u001b[0m \u001b[0;34m=\u001b[0m \u001b[0mdfs1\u001b[0m\u001b[0;34m(\u001b[0m\u001b[0mroot\u001b[0m\u001b[0;34m)\u001b[0m\u001b[0;34m\u001b[0m\u001b[0;34m\u001b[0m\u001b[0m\n",
      "\u001b[0;32m/var/folders/ms/mwj7bxrn3js37ntrky00lpk00000gn/T/ipykernel_61249/1557914204.py\u001b[0m in \u001b[0;36mdfs2\u001b[0;34m(root, dep)\u001b[0m\n\u001b[1;32m     10\u001b[0m         \u001b[0;32mif\u001b[0m \u001b[0;32mnot\u001b[0m \u001b[0mroot\u001b[0m\u001b[0;34m:\u001b[0m \u001b[0;32mreturn\u001b[0m\u001b[0;34m\u001b[0m\u001b[0;34m\u001b[0m\u001b[0m\n\u001b[1;32m     11\u001b[0m         \u001b[0;32mif\u001b[0m \u001b[0mdep\u001b[0m \u001b[0;34m==\u001b[0m \u001b[0mmax_depth\u001b[0m\u001b[0;34m:\u001b[0m \u001b[0mtotal\u001b[0m\u001b[0;34m+=\u001b[0m \u001b[0mroot\u001b[0m\u001b[0;34m.\u001b[0m\u001b[0mval\u001b[0m\u001b[0;34m\u001b[0m\u001b[0;34m\u001b[0m\u001b[0m\n\u001b[0;32m---> 12\u001b[0;31m         \u001b[0mdfs2\u001b[0m\u001b[0;34m(\u001b[0m\u001b[0mroot\u001b[0m\u001b[0;34m.\u001b[0m\u001b[0mleft\u001b[0m\u001b[0;34m,\u001b[0m \u001b[0mdep\u001b[0m\u001b[0;34m+\u001b[0m\u001b[0;36m1\u001b[0m\u001b[0;34m)\u001b[0m\u001b[0;34m\u001b[0m\u001b[0;34m\u001b[0m\u001b[0m\n\u001b[0m\u001b[1;32m     13\u001b[0m         \u001b[0mdfs2\u001b[0m\u001b[0;34m(\u001b[0m\u001b[0mroot\u001b[0m\u001b[0;34m.\u001b[0m\u001b[0mright\u001b[0m\u001b[0;34m,\u001b[0m \u001b[0mdep\u001b[0m\u001b[0;34m+\u001b[0m\u001b[0;36m1\u001b[0m\u001b[0;34m)\u001b[0m\u001b[0;34m\u001b[0m\u001b[0;34m\u001b[0m\u001b[0m\n\u001b[1;32m     14\u001b[0m     \u001b[0mtotal\u001b[0m\u001b[0;34m=\u001b[0m\u001b[0;36m0\u001b[0m\u001b[0;34m\u001b[0m\u001b[0;34m\u001b[0m\u001b[0m\n",
      "\u001b[0;32m/var/folders/ms/mwj7bxrn3js37ntrky00lpk00000gn/T/ipykernel_61249/1557914204.py\u001b[0m in \u001b[0;36mdfs2\u001b[0;34m(root, dep)\u001b[0m\n\u001b[1;32m     10\u001b[0m         \u001b[0;32mif\u001b[0m \u001b[0;32mnot\u001b[0m \u001b[0mroot\u001b[0m\u001b[0;34m:\u001b[0m \u001b[0;32mreturn\u001b[0m\u001b[0;34m\u001b[0m\u001b[0;34m\u001b[0m\u001b[0m\n\u001b[1;32m     11\u001b[0m         \u001b[0;32mif\u001b[0m \u001b[0mdep\u001b[0m \u001b[0;34m==\u001b[0m \u001b[0mmax_depth\u001b[0m\u001b[0;34m:\u001b[0m \u001b[0mtotal\u001b[0m\u001b[0;34m+=\u001b[0m \u001b[0mroot\u001b[0m\u001b[0;34m.\u001b[0m\u001b[0mval\u001b[0m\u001b[0;34m\u001b[0m\u001b[0;34m\u001b[0m\u001b[0m\n\u001b[0;32m---> 12\u001b[0;31m         \u001b[0mdfs2\u001b[0m\u001b[0;34m(\u001b[0m\u001b[0mroot\u001b[0m\u001b[0;34m.\u001b[0m\u001b[0mleft\u001b[0m\u001b[0;34m,\u001b[0m \u001b[0mdep\u001b[0m\u001b[0;34m+\u001b[0m\u001b[0;36m1\u001b[0m\u001b[0;34m)\u001b[0m\u001b[0;34m\u001b[0m\u001b[0;34m\u001b[0m\u001b[0m\n\u001b[0m\u001b[1;32m     13\u001b[0m         \u001b[0mdfs2\u001b[0m\u001b[0;34m(\u001b[0m\u001b[0mroot\u001b[0m\u001b[0;34m.\u001b[0m\u001b[0mright\u001b[0m\u001b[0;34m,\u001b[0m \u001b[0mdep\u001b[0m\u001b[0;34m+\u001b[0m\u001b[0;36m1\u001b[0m\u001b[0;34m)\u001b[0m\u001b[0;34m\u001b[0m\u001b[0;34m\u001b[0m\u001b[0m\n\u001b[1;32m     14\u001b[0m     \u001b[0mtotal\u001b[0m\u001b[0;34m=\u001b[0m\u001b[0;36m0\u001b[0m\u001b[0;34m\u001b[0m\u001b[0;34m\u001b[0m\u001b[0m\n",
      "\u001b[0;32m/var/folders/ms/mwj7bxrn3js37ntrky00lpk00000gn/T/ipykernel_61249/1557914204.py\u001b[0m in \u001b[0;36mdfs2\u001b[0;34m(root, dep)\u001b[0m\n\u001b[1;32m      9\u001b[0m     \u001b[0;32mdef\u001b[0m \u001b[0mdfs2\u001b[0m\u001b[0;34m(\u001b[0m\u001b[0mroot\u001b[0m\u001b[0;34m,\u001b[0m \u001b[0mdep\u001b[0m\u001b[0;34m)\u001b[0m\u001b[0;34m:\u001b[0m\u001b[0;34m\u001b[0m\u001b[0;34m\u001b[0m\u001b[0m\n\u001b[1;32m     10\u001b[0m         \u001b[0;32mif\u001b[0m \u001b[0;32mnot\u001b[0m \u001b[0mroot\u001b[0m\u001b[0;34m:\u001b[0m \u001b[0;32mreturn\u001b[0m\u001b[0;34m\u001b[0m\u001b[0;34m\u001b[0m\u001b[0m\n\u001b[0;32m---> 11\u001b[0;31m         \u001b[0;32mif\u001b[0m \u001b[0mdep\u001b[0m \u001b[0;34m==\u001b[0m \u001b[0mmax_depth\u001b[0m\u001b[0;34m:\u001b[0m \u001b[0mtotal\u001b[0m\u001b[0;34m+=\u001b[0m \u001b[0mroot\u001b[0m\u001b[0;34m.\u001b[0m\u001b[0mval\u001b[0m\u001b[0;34m\u001b[0m\u001b[0;34m\u001b[0m\u001b[0m\n\u001b[0m\u001b[1;32m     12\u001b[0m         \u001b[0mdfs2\u001b[0m\u001b[0;34m(\u001b[0m\u001b[0mroot\u001b[0m\u001b[0;34m.\u001b[0m\u001b[0mleft\u001b[0m\u001b[0;34m,\u001b[0m \u001b[0mdep\u001b[0m\u001b[0;34m+\u001b[0m\u001b[0;36m1\u001b[0m\u001b[0;34m)\u001b[0m\u001b[0;34m\u001b[0m\u001b[0;34m\u001b[0m\u001b[0m\n\u001b[1;32m     13\u001b[0m         \u001b[0mdfs2\u001b[0m\u001b[0;34m(\u001b[0m\u001b[0mroot\u001b[0m\u001b[0;34m.\u001b[0m\u001b[0mright\u001b[0m\u001b[0;34m,\u001b[0m \u001b[0mdep\u001b[0m\u001b[0;34m+\u001b[0m\u001b[0;36m1\u001b[0m\u001b[0;34m)\u001b[0m\u001b[0;34m\u001b[0m\u001b[0;34m\u001b[0m\u001b[0m\n",
      "\u001b[0;31mUnboundLocalError\u001b[0m: local variable 'total' referenced before assignment"
     ]
    }
   ],
   "source": [
    "deepestLeavesSum(root)"
   ]
  },
  {
   "cell_type": "markdown",
   "id": "dfd36a60-5101-440d-a325-f0a45255ee26",
   "metadata": {},
   "source": [
    "# DP + BFS"
   ]
  },
  {
   "cell_type": "markdown",
   "id": "700ee98a-27c8-45b8-abee-ff00c369625b",
   "metadata": {
    "tags": [],
    "toc-hr-collapsed": true
   },
   "source": [
    "# DP + DFS"
   ]
  },
  {
   "cell_type": "markdown",
   "id": "e278e911-b8b5-4540-9651-304d82ec67ab",
   "metadata": {},
   "source": [
    "# DP-線性DP"
   ]
  },
  {
   "cell_type": "code",
   "execution_count": null,
   "id": "cf560dd2-018e-40b4-ad2a-9a4c242e9b47",
   "metadata": {},
   "outputs": [],
   "source": []
  },
  {
   "cell_type": "markdown",
   "id": "a773386b-c423-456a-a95d-279d98b449b1",
   "metadata": {},
   "source": [
    "# heap"
   ]
  },
  {
   "cell_type": "markdown",
   "id": "542d77ba-73ae-43bb-88ff-239e2c0aabb6",
   "metadata": {},
   "source": [
    "## 1675. Minimize Deviation in Array\n",
    "\n",
    "給一個數字串\n",
    "兩個operation\n",
    "1. 偶數 /2 可以任選操作數量\n",
    "2. 基數 *2 可以任選操作數量\n",
    "\n",
    "然後經過若干的操作後 陣列裡頭的東西取最大差距, \n",
    "\n"
   ]
  },
  {
   "cell_type": "markdown",
   "id": "4a638705-c08c-4368-9b45-b57d8a69e75c",
   "metadata": {},
   "source": [
    "***解題思路***\n",
    "\n",
    "heapq 只有minimum這件事情一般都是透過 * -1 解決. heappop都是 pop 最大數字\n",
    "先把所有odd 變成even \n",
    "\n",
    "float('inf') 也是一個init condition 的trick\n",
    "\n",
    "difference 都是來自最大減最小\n",
    "拿最大/2 後如果變成最小．\n",
    "\n",
    "終止條件很有趣， 因為pop是一定會pop. 但是如果沒有變小機會push 不一定會push."
   ]
  },
  {
   "cell_type": "code",
   "execution_count": null,
   "id": "ff3cdbd1-f82c-4b13-ac5c-a98f31492e41",
   "metadata": {},
   "outputs": [],
   "source": [
    "def minimumDeviation(self, A):\n",
    "    pq = []\n",
    "    for a in A:\n",
    "        heapq.heappush(pq, -a * 2 if a % 2 else -a)\n",
    "    res = float('inf')\n",
    "    mi = -max(pq)\n",
    "    while len(pq) == len(A):\n",
    "        a = -heapq.heappop(pq)\n",
    "        res = min(res, a - mi)\n",
    "        if a % 2 == 0:\n",
    "            mi = min(mi, a / 2)\n",
    "            heapq.heappush(pq, -a / 2)\n",
    "    return res"
   ]
  },
  {
   "cell_type": "markdown",
   "id": "7cc39b85-3d94-4266-b69b-55be91eabaa1",
   "metadata": {},
   "source": [
    "# Basic data structure"
   ]
  },
  {
   "cell_type": "markdown",
   "id": "bfd64b59-8f3a-4feb-bcfd-e6e9faf07425",
   "metadata": {},
   "source": [
    "## Heap"
   ]
  },
  {
   "cell_type": "code",
   "execution_count": 1,
   "id": "49d11169-0249-4721-abd1-3e90c4a920b7",
   "metadata": {},
   "outputs": [],
   "source": [
    "import heapq"
   ]
  },
  {
   "cell_type": "code",
   "execution_count": 2,
   "id": "71b02de5-55f7-41e0-bc4a-82860178a535",
   "metadata": {},
   "outputs": [],
   "source": [
    "b4_heap = [2,3,1]"
   ]
  },
  {
   "cell_type": "code",
   "execution_count": 3,
   "id": "a28a279b-156b-48f1-afeb-905678ad14cd",
   "metadata": {},
   "outputs": [],
   "source": [
    "heapq.heapify(b4_heap)"
   ]
  },
  {
   "cell_type": "code",
   "execution_count": 81,
   "id": "f6e9e32e-ea07-4477-9e61-757f38ac1190",
   "metadata": {},
   "outputs": [
    {
     "data": {
      "text/plain": [
       "[1, 3, 2]"
      ]
     },
     "execution_count": 81,
     "metadata": {},
     "output_type": "execute_result"
    }
   ],
   "source": [
    "b4_heap\n",
    "# 跟bst 不同 , 左子樹可以>右子數\n",
    "# 是個inplace操作, 但是操作完還是list "
   ]
  },
  {
   "cell_type": "code",
   "execution_count": 5,
   "id": "2ba67631-8ae9-4502-89e0-9c48ed1d9181",
   "metadata": {},
   "outputs": [
    {
     "data": {
      "text/plain": [
       "1"
      ]
     },
     "execution_count": 5,
     "metadata": {},
     "output_type": "execute_result"
    }
   ],
   "source": [
    "heapq.heappop(b4_heap)"
   ]
  },
  {
   "cell_type": "markdown",
   "id": "fcafe602-6586-426f-aac0-ae905514bb66",
   "metadata": {},
   "source": [
    "## Bisect"
   ]
  }
 ],
 "metadata": {
  "kernelspec": {
   "display_name": "Python 3 (ipykernel)",
   "language": "python",
   "name": "python3"
  },
  "language_info": {
   "codemirror_mode": {
    "name": "ipython",
    "version": 3
   },
   "file_extension": ".py",
   "mimetype": "text/x-python",
   "name": "python",
   "nbconvert_exporter": "python",
   "pygments_lexer": "ipython3",
   "version": "3.9.7"
  }
 },
 "nbformat": 4,
 "nbformat_minor": 5
}
