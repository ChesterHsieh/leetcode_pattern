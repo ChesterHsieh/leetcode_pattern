{
 "cells": [
  {
   "cell_type": "code",
   "execution_count": 4,
   "id": "635d7f5d-9ec2-4761-a373-e21ff94eb424",
   "metadata": {},
   "outputs": [],
   "source": [
    "from typing import Optional"
   ]
  },
  {
   "cell_type": "markdown",
   "id": "588c7e76-81f7-418a-b49f-1002635d5795",
   "metadata": {},
   "source": [
    "# Infra"
   ]
  },
  {
   "cell_type": "code",
   "execution_count": 9,
   "id": "f551c39f-d3db-4540-a259-5ac87ca92332",
   "metadata": {},
   "outputs": [],
   "source": [
    "class TreeNode:\n",
    "    def __init__(self, val=0, left=None, right=None):\n",
    "        self.val = val\n",
    "        self.left = left\n",
    "        self.right = right"
   ]
  },
  {
   "cell_type": "code",
   "execution_count": 10,
   "id": "185d2a4b-3082-4576-878b-85773c21324a",
   "metadata": {},
   "outputs": [],
   "source": [
    "def list_to_tree(ls):\n",
    "    if not ls:\n",
    "        return TreeNode(None)\n",
    "    i = 0\n",
    "    root = TreeNode(ls[i])\n",
    "    tmp_queue = [root]\n",
    "    while tmp_queue:\n",
    "        i += 1\n",
    "        node = tmp_queue.pop()\n",
    "        if not node.val:\n",
    "            continue\n",
    "\n",
    "        if 2*i -1 >= len(ls):\n",
    "            return root\n",
    "        node.left = TreeNode(ls[2*i-1])\n",
    "        tmp_queue.append(node.left)\n",
    "\n",
    "        if 2*i >= len(ls):\n",
    "            return root\n",
    "        node.right = TreeNode(ls[2*i])\n",
    "        tmp_queue.append(node.right)\n",
    "    return root"
   ]
  },
  {
   "cell_type": "code",
   "execution_count": 12,
   "id": "46c31591-b1fd-4bf2-b2d6-62b824dec4de",
   "metadata": {},
   "outputs": [],
   "source": [
    "null = None"
   ]
  },
  {
   "cell_type": "markdown",
   "id": "19d53a8d-dce4-4907-a639-c87fe66d009b",
   "metadata": {},
   "source": [
    "# BFS"
   ]
  },
  {
   "cell_type": "markdown",
   "id": "228edb7a-00e9-42cf-b329-58016e174104",
   "metadata": {
    "tags": []
   },
   "source": [
    "## Q617"
   ]
  },
  {
   "cell_type": "code",
   "execution_count": 13,
   "id": "5e68ba42-1d33-410a-b173-3b392dfa57d6",
   "metadata": {
    "tags": []
   },
   "outputs": [],
   "source": [
    "root = list_to_tree([1,2,3,4,5,null,6,7,null,null,null,null,8])"
   ]
  },
  {
   "cell_type": "code",
   "execution_count": 19,
   "id": "e44c083d-5174-4679-86b6-072b52656705",
   "metadata": {},
   "outputs": [],
   "source": [
    "class Solution:\n",
    "    def mergeTrees(self, root1: Optional[TreeNode], root2: Optional[TreeNode]) -> Optional[TreeNode]:\n",
    "        if root1 and root2:\n",
    "            root1.val  += root2.val\n",
    "            root1.left = self.mergeTrees(root1.left, root2.left)\n",
    "            root1.right = self.mergeTrees(root1.right, root2.right)\n",
    "            return root1\n",
    "        else:\n",
    "            return root1 or root2"
   ]
  },
  {
   "cell_type": "markdown",
   "id": "694b8afe-c6dc-4e00-8450-c4a48c8be0c4",
   "metadata": {},
   "source": [
    "# DFS"
   ]
  },
  {
   "cell_type": "markdown",
   "id": "031949ed-c313-4d8d-b31f-e2ec0086e152",
   "metadata": {},
   "source": [
    "## Q1302"
   ]
  },
  {
   "cell_type": "code",
   "execution_count": 26,
   "id": "bbd43486-966b-4cae-bd81-5f4ae2da68ed",
   "metadata": {},
   "outputs": [],
   "source": [
    "root = list_to_tree([1,2,3,4,5,null,6,7,null,null,null,null,8])"
   ]
  },
  {
   "cell_type": "code",
   "execution_count": 30,
   "id": "238a6a89-8883-48d9-92dd-ed76714a6e3f",
   "metadata": {},
   "outputs": [],
   "source": [
    "def deepestLeavesSum(root):\n",
    "    \"\"\"\n",
    "    :type root: TreeNode\n",
    "    :rtype: int\n",
    "    \"\"\"\n",
    "    def dfs1(root):\n",
    "        if not root: return 0\n",
    "        return max(dfs1(root.left), dfs1(root.right))+1\n",
    "    def dfs2(root, dep):\n",
    "        if not root: return\n",
    "        if dep == max_depth: total+= root.val\n",
    "        dfs2(root.left, dep+1)\n",
    "        dfs2(root.right, dep+1)\n",
    "    total=0\n",
    "    max_depth = dfs1(root)\n",
    "    # dfs2(root, 1)\n",
    "    return max_depth"
   ]
  },
  {
   "cell_type": "code",
   "execution_count": 31,
   "id": "f78a8315-e2dd-418f-87d8-bf6b3298f7e8",
   "metadata": {},
   "outputs": [
    {
     "data": {
      "text/plain": [
       "6"
      ]
     },
     "execution_count": 31,
     "metadata": {},
     "output_type": "execute_result"
    }
   ],
   "source": [
    "deepestLeavesSum(root)"
   ]
  },
  {
   "cell_type": "markdown",
   "id": "a773386b-c423-456a-a95d-279d98b449b1",
   "metadata": {},
   "source": [
    "# BFS + DP"
   ]
  }
 ],
 "metadata": {
  "kernelspec": {
   "display_name": "Python 3 (ipykernel)",
   "language": "python",
   "name": "python3"
  },
  "language_info": {
   "codemirror_mode": {
    "name": "ipython",
    "version": 3
   },
   "file_extension": ".py",
   "mimetype": "text/x-python",
   "name": "python",
   "nbconvert_exporter": "python",
   "pygments_lexer": "ipython3",
   "version": "3.9.7"
  }
 },
 "nbformat": 4,
 "nbformat_minor": 5
}
