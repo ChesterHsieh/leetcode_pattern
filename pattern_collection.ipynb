{
 "cells": [
  {
   "cell_type": "markdown",
   "id": "82b8ed12",
   "metadata": {},
   "source": [
    "# 日程安排"
   ]
  },
  {
   "cell_type": "markdown",
   "id": "a8701000",
   "metadata": {},
   "source": [
    "相關連結\n",
    "https://zhuanlan.zhihu.com/p/126546914"
   ]
  },
  {
   "cell_type": "markdown",
   "id": "d8ad2ca9-f445-4f5b-bf0d-64792c0c4a06",
   "metadata": {},
   "source": [
    "https://www.youtube.com/playlist?list=PLLuMmzMTgVK5Hy1qcWYZcd7wVQQ1v0AjX\n",
    "花花按照data structure分類"
   ]
  },
  {
   "cell_type": "markdown",
   "id": "2ab71af6-05ec-4b62-8bf8-c8133bb7d49d",
   "metadata": {},
   "source": [
    "# Matrix"
   ]
  },
  {
   "cell_type": "code",
   "execution_count": 7,
   "id": "40ab028e",
   "metadata": {},
   "outputs": [],
   "source": [
    "from typing import Optional,List\n",
    "import heapq\n",
    "import bisect\n",
    "from collections import defaultdict"
   ]
  },
  {
   "cell_type": "markdown",
   "id": "fa3a0753",
   "metadata": {},
   "source": [
    "# Infra"
   ]
  },
  {
   "cell_type": "code",
   "execution_count": null,
   "id": "455f14ad",
   "metadata": {},
   "outputs": [],
   "source": [
    "class TreeNode:\n",
    "    def __init__(self, val=0, left=None, right=None):\n",
    "        self.val = val\n",
    "        self.left = left\n",
    "        self.right = right"
   ]
  },
  {
   "cell_type": "code",
   "execution_count": null,
   "id": "4d864f49",
   "metadata": {},
   "outputs": [],
   "source": [
    "def list_to_tree(ls):\n",
    "    if not ls:\n",
    "        return TreeNode(None)\n",
    "    i = 0\n",
    "    root = TreeNode(ls[i])\n",
    "    tmp_queue = [root]\n",
    "    while tmp_queue:\n",
    "        i += 1\n",
    "        node = tmp_queue.pop()\n",
    "        if not node.val:\n",
    "            continue\n",
    "\n",
    "        if 2*i -1 >= len(ls):\n",
    "            return root\n",
    "        node.left = TreeNode(ls[2*i-1])\n",
    "        tmp_queue.append(node.left)\n",
    "\n",
    "        if 2*i >= len(ls):\n",
    "            return root\n",
    "        node.right = TreeNode(ls[2*i])\n",
    "        tmp_queue.append(node.right)\n",
    "    return root"
   ]
  },
  {
   "cell_type": "code",
   "execution_count": 5,
   "id": "572938d9-464c-4b74-81dc-674fe3c2b26a",
   "metadata": {},
   "outputs": [
    {
     "data": {
      "text/plain": [
       "1"
      ]
     },
     "execution_count": 5,
     "metadata": {},
     "output_type": "execute_result"
    }
   ],
   "source": [
    "3//2"
   ]
  },
  {
   "cell_type": "code",
   "execution_count": null,
   "id": "fda07826",
   "metadata": {},
   "outputs": [],
   "source": [
    "null = None"
   ]
  },
  {
   "cell_type": "markdown",
   "id": "3effeedc-db98-417d-b215-50606216e6c8",
   "metadata": {},
   "source": [
    "# Array - two ptr 解題套路"
   ]
  },
  {
   "cell_type": "markdown",
   "id": "9c791b39-8f30-4743-8e89-f0478920b970",
   "metadata": {},
   "source": [
    "\n",
    "processed| not needed| unknow\n",
    "-> ->"
   ]
  },
  {
   "cell_type": "code",
   "execution_count": null,
   "id": "e8cddc4a-2b7a-42b2-abb6-83ddf1e06496",
   "metadata": {},
   "outputs": [],
   "source": [
    "processed | unknow | processed\n",
    "->                     <-"
   ]
  },
  {
   "cell_type": "markdown",
   "id": "460d15ef-8f00-4c3d-93c0-91479e54c1f1",
   "metadata": {
    "tags": []
   },
   "source": [
    "# Q344"
   ]
  },
  {
   "cell_type": "code",
   "execution_count": 12,
   "id": "e3446ebc-5327-4d11-a149-4d8f5c31ff7e",
   "metadata": {},
   "outputs": [],
   "source": [
    "#非套路寫法\n",
    "class Solution:\n",
    "    def reverseString(self, s: List[str]) -> None:\n",
    "        \"\"\"\n",
    "        Do not return anything, modify s in-place instead.\n",
    "        \"\"\"\n",
    "        if len(s) == 0:\n",
    "            return []\n",
    "        box = ''\n",
    "        leng = len(s)//2\n",
    "        for i in range(leng):\n",
    "            box = s[-(i+1)]\n",
    "            s[-(i+1)] = s[i]\n",
    "            s[i] = box\n",
    "        return s"
   ]
  },
  {
   "cell_type": "code",
   "execution_count": 18,
   "id": "5bd0425c-11e8-4502-8652-44df6cef39df",
   "metadata": {},
   "outputs": [],
   "source": [
    "class Solution:\n",
    "    def reverseString(self, s: List[str]) -> None:\n",
    "        \"\"\"\n",
    "        Do not return anything, modify s in-place instead.\n",
    "        \"\"\"\n",
    "        i = 0\n",
    "        j = len(s)-1 # init 起始位置\n",
    "        while(i<j):# 這才是 2ptr 醍醐味\n",
    "            box = s[j]\n",
    "            s[j] = s[i]\n",
    "            s[i] = box\n",
    "            j -= 1\n",
    "            i += 1\n",
    "        return s\n",
    "            "
   ]
  },
  {
   "cell_type": "code",
   "execution_count": 19,
   "id": "4d81a957-b8d6-49f4-a469-7ae9994a3901",
   "metadata": {},
   "outputs": [
    {
     "data": {
      "text/plain": [
       "['o', 'l', 'l', 'e', 'h']"
      ]
     },
     "execution_count": 19,
     "metadata": {},
     "output_type": "execute_result"
    }
   ],
   "source": [
    "Solution().reverseString(list('hello'))"
   ]
  },
  {
   "cell_type": "markdown",
   "id": "dea68480",
   "metadata": {},
   "source": [
    "# BFS"
   ]
  },
  {
   "cell_type": "code",
   "execution_count": 51,
   "id": "df5cb15f-525f-4df5-8223-35506f3890c5",
   "metadata": {},
   "outputs": [],
   "source": [
    "# template\n",
    "class Solution:\n",
    "    def levelOrder(self, root: 'Node') -> List[List[int]]:\n",
    "        if not root: return []\n",
    "        stack = [root]\n",
    "        res = []\n",
    "        \n",
    "        while stack:\n",
    "            tmp = []\n",
    "            for _ in range(len(stack)):\n",
    "                node = stack.pop(0)\n",
    "                tmp.append(node.val)\n",
    "                stack.extend(node.children)\n",
    "            res.append(tmp)\n",
    "        return res"
   ]
  },
  {
   "cell_type": "markdown",
   "id": "0d9d8606",
   "metadata": {
    "tags": []
   },
   "source": [
    "## Q617"
   ]
  },
  {
   "cell_type": "code",
   "execution_count": null,
   "id": "8cdd7dd3",
   "metadata": {
    "tags": []
   },
   "outputs": [],
   "source": [
    "root1 = list_to_tree([1,3,2,5])\n",
    "root2 = list_to_tree([2,1,3,null,4,null,7])"
   ]
  },
  {
   "cell_type": "code",
   "execution_count": null,
   "id": "4af3970c",
   "metadata": {},
   "outputs": [],
   "source": [
    "root2.left.left"
   ]
  },
  {
   "cell_type": "code",
   "execution_count": null,
   "id": "6a5ada14",
   "metadata": {},
   "outputs": [],
   "source": [
    "class Solution:\n",
    "    def mergeTrees(self, root1: Optional[TreeNode], root2: Optional[TreeNode]) -> Optional[TreeNode]:\n",
    "        # base case\n",
    "        if root1 is None and root2 is None:\n",
    "            return None\n",
    "        \n",
    "        # catching the values of root nodes, if root absert, assign 0\n",
    "        v1 = root1.val if root1 else 0\n",
    "        v2 = root2.val if root2 else 0\n",
    "        \n",
    "        # creating a new node off of these values\n",
    "        new_node = TreeNode(v1+v2)\n",
    "        \n",
    "        # Fetching the Left Subtree Nodes\n",
    "        root1_left = root1.left if root1 else None\n",
    "        root2_left = root2.left if root2 else None\n",
    "        # merging the Left Subtree\n",
    "        new_node.left = self.mergeTrees(root1_left, root2_left)\n",
    "        \n",
    "        # Fetching the Right Subtree Nodes\n",
    "        root1_right = root1.right if root1 else None\n",
    "        root2_right = root2.right if root2 else None\n",
    "        # merging the Left Subtree\n",
    "        new_node.right = self.mergeTrees(root1_right, root2_right)\n",
    "        \n",
    "        # return the Node created\n",
    "        return new_node\n",
    "s = Solution()\n",
    "t = s.mergeTrees(root1,root2)"
   ]
  },
  {
   "cell_type": "markdown",
   "id": "63f43d31-eea9-4961-b90d-4e02e4ff54d9",
   "metadata": {},
   "source": [
    "## Q 818"
   ]
  },
  {
   "cell_type": "code",
   "execution_count": 49,
   "id": "a1ca2a09-2d22-46e4-bcf8-ca5d474e1040",
   "metadata": {},
   "outputs": [],
   "source": [
    "class Solution:\n",
    "    def childs(self, node, target):\n",
    "        speed, posn = node\n",
    "        \n",
    "        if abs(speed)<=2*target and abs(posn)<=2*target:\n",
    "            output = set()\n",
    "            output.add((2*speed, speed+posn))\n",
    "            if speed>0:\n",
    "                reversed_speed = -1\n",
    "            else:\n",
    "                reversed_speed = 1\n",
    "            output.add((reversed_speed, posn))\n",
    "            return output\n",
    "        else:\n",
    "            return set()\n",
    "    \n",
    "    def racecar(self, target: int) -> int:\n",
    "        \n",
    "        start = (1, 0)\n",
    "        \n",
    "        visited = {start}\n",
    "        cur_set = {start}\n",
    "        cur_level = 0\n",
    "        while cur_set:\n",
    "            succ_set = set()\n",
    "            for node in cur_set:\n",
    "                for child in self.childs(node, target):\n",
    "                    if child not in visited:\n",
    "                        succ_set.add(child)\n",
    "                        visited.add(child)\n",
    "                        if child[1] == target:\n",
    "                            return cur_level + 1\n",
    "            cur_set = succ_set\n",
    "            cur_level += 1"
   ]
  },
  {
   "cell_type": "code",
   "execution_count": 50,
   "id": "df576484-fa42-434e-9738-75aedc13bc82",
   "metadata": {},
   "outputs": [
    {
     "data": {
      "text/plain": [
       "7"
      ]
     },
     "execution_count": 50,
     "metadata": {},
     "output_type": "execute_result"
    }
   ],
   "source": [
    "Solution().racecar(10)"
   ]
  },
  {
   "cell_type": "markdown",
   "id": "45642dee-bc4c-4c6e-8912-197b2f871722",
   "metadata": {},
   "source": [
    "## Q 126 world Ladder II"
   ]
  },
  {
   "cell_type": "code",
   "execution_count": 5,
   "id": "d48d7176-fdd3-4c15-8bfc-4448124ec3b3",
   "metadata": {},
   "outputs": [
    {
     "ename": "NameError",
     "evalue": "name 'List' is not defined",
     "output_type": "error",
     "traceback": [
      "\u001b[0;31m---------------------------------------------------------------------------\u001b[0m",
      "\u001b[0;31mNameError\u001b[0m                                 Traceback (most recent call last)",
      "\u001b[0;32m/var/folders/ms/mwj7bxrn3js37ntrky00lpk00000gn/T/ipykernel_11312/964236850.py\u001b[0m in \u001b[0;36m<module>\u001b[0;34m\u001b[0m\n\u001b[0;32m----> 1\u001b[0;31m \u001b[0;32mclass\u001b[0m \u001b[0mSolution\u001b[0m\u001b[0;34m:\u001b[0m\u001b[0;34m\u001b[0m\u001b[0;34m\u001b[0m\u001b[0m\n\u001b[0m\u001b[1;32m      2\u001b[0m     \u001b[0;32mdef\u001b[0m \u001b[0mfindLadders\u001b[0m\u001b[0;34m(\u001b[0m\u001b[0mself\u001b[0m\u001b[0;34m,\u001b[0m \u001b[0mbeginWord\u001b[0m\u001b[0;34m:\u001b[0m \u001b[0mstr\u001b[0m\u001b[0;34m,\u001b[0m \u001b[0mendWord\u001b[0m\u001b[0;34m:\u001b[0m \u001b[0mstr\u001b[0m\u001b[0;34m,\u001b[0m \u001b[0mwordList\u001b[0m\u001b[0;34m:\u001b[0m \u001b[0mList\u001b[0m\u001b[0;34m[\u001b[0m\u001b[0mstr\u001b[0m\u001b[0;34m]\u001b[0m\u001b[0;34m)\u001b[0m \u001b[0;34m->\u001b[0m \u001b[0mList\u001b[0m\u001b[0;34m[\u001b[0m\u001b[0mList\u001b[0m\u001b[0;34m[\u001b[0m\u001b[0mstr\u001b[0m\u001b[0;34m]\u001b[0m\u001b[0;34m]\u001b[0m\u001b[0;34m:\u001b[0m\u001b[0;34m\u001b[0m\u001b[0;34m\u001b[0m\u001b[0m\n\u001b[1;32m      3\u001b[0m \u001b[0;34m\u001b[0m\u001b[0m\n\u001b[1;32m      4\u001b[0m         \u001b[0mwordSet\u001b[0m \u001b[0;34m=\u001b[0m \u001b[0mset\u001b[0m\u001b[0;34m(\u001b[0m\u001b[0;34m[\u001b[0m\u001b[0;34m]\u001b[0m\u001b[0;34m)\u001b[0m\u001b[0;34m\u001b[0m\u001b[0;34m\u001b[0m\u001b[0m\n\u001b[1;32m      5\u001b[0m         \u001b[0;32mfor\u001b[0m \u001b[0mword\u001b[0m \u001b[0;32min\u001b[0m \u001b[0mwordList\u001b[0m\u001b[0;34m:\u001b[0m\u001b[0;34m\u001b[0m\u001b[0;34m\u001b[0m\u001b[0m\n",
      "\u001b[0;32m/var/folders/ms/mwj7bxrn3js37ntrky00lpk00000gn/T/ipykernel_11312/964236850.py\u001b[0m in \u001b[0;36mSolution\u001b[0;34m()\u001b[0m\n\u001b[1;32m      1\u001b[0m \u001b[0;32mclass\u001b[0m \u001b[0mSolution\u001b[0m\u001b[0;34m:\u001b[0m\u001b[0;34m\u001b[0m\u001b[0;34m\u001b[0m\u001b[0m\n\u001b[0;32m----> 2\u001b[0;31m     \u001b[0;32mdef\u001b[0m \u001b[0mfindLadders\u001b[0m\u001b[0;34m(\u001b[0m\u001b[0mself\u001b[0m\u001b[0;34m,\u001b[0m \u001b[0mbeginWord\u001b[0m\u001b[0;34m:\u001b[0m \u001b[0mstr\u001b[0m\u001b[0;34m,\u001b[0m \u001b[0mendWord\u001b[0m\u001b[0;34m:\u001b[0m \u001b[0mstr\u001b[0m\u001b[0;34m,\u001b[0m \u001b[0mwordList\u001b[0m\u001b[0;34m:\u001b[0m \u001b[0mList\u001b[0m\u001b[0;34m[\u001b[0m\u001b[0mstr\u001b[0m\u001b[0;34m]\u001b[0m\u001b[0;34m)\u001b[0m \u001b[0;34m->\u001b[0m \u001b[0mList\u001b[0m\u001b[0;34m[\u001b[0m\u001b[0mList\u001b[0m\u001b[0;34m[\u001b[0m\u001b[0mstr\u001b[0m\u001b[0;34m]\u001b[0m\u001b[0;34m]\u001b[0m\u001b[0;34m:\u001b[0m\u001b[0;34m\u001b[0m\u001b[0;34m\u001b[0m\u001b[0m\n\u001b[0m\u001b[1;32m      3\u001b[0m \u001b[0;34m\u001b[0m\u001b[0m\n\u001b[1;32m      4\u001b[0m         \u001b[0mwordSet\u001b[0m \u001b[0;34m=\u001b[0m \u001b[0mset\u001b[0m\u001b[0;34m(\u001b[0m\u001b[0;34m[\u001b[0m\u001b[0;34m]\u001b[0m\u001b[0;34m)\u001b[0m\u001b[0;34m\u001b[0m\u001b[0;34m\u001b[0m\u001b[0m\n\u001b[1;32m      5\u001b[0m         \u001b[0;32mfor\u001b[0m \u001b[0mword\u001b[0m \u001b[0;32min\u001b[0m \u001b[0mwordList\u001b[0m\u001b[0;34m:\u001b[0m\u001b[0;34m\u001b[0m\u001b[0;34m\u001b[0m\u001b[0m\n",
      "\u001b[0;31mNameError\u001b[0m: name 'List' is not defined"
     ]
    }
   ],
   "source": [
    "class Solution:\n",
    "    def findLadders(self, beginWord: str, endWord: str, wordList: List[str]) -> List[List[str]]:\n",
    "\n",
    "        wordSet = set([])\n",
    "        for word in wordList:\n",
    "            wordSet.add(word)\n",
    "        \n",
    "        level = set([beginWord])\n",
    "        \n",
    "        parents = collections.defaultdict(set)\n",
    "        \n",
    "        while level and endWord not in parents:\n",
    "            next_level = collections.defaultdict(set)\n",
    "            for word in level:\n",
    "                for i in range(len(beginWord)):\n",
    "                    p1 = word[:i]\n",
    "                    p2 = word[i+1:]\n",
    "                    for j in 'abcdefghijklmnopqrstuvwxyz':\n",
    "                        # accelerate \n",
    "                        if word[i] != j:\n",
    "                            childWord = p1 + j + p2\n",
    "                            if childWord in wordSet and childWord not in parents:\n",
    "                                next_level[childWord].add(word)\n",
    "            level = next_level\n",
    "            parents.update(next_level)\n",
    "        \n",
    "        res = [[endWord]]\n",
    "        while res and res[0][0] !=beginWord:\n",
    "            res = [[p]+r for r in res for p in parents[r[0]]]\n",
    "        \n",
    "        return res"
   ]
  },
  {
   "cell_type": "markdown",
   "id": "71976878",
   "metadata": {},
   "source": [
    "# DFS"
   ]
  },
  {
   "cell_type": "markdown",
   "id": "0310512a",
   "metadata": {},
   "source": [
    "## Q1302"
   ]
  },
  {
   "cell_type": "code",
   "execution_count": null,
   "id": "4371611a",
   "metadata": {},
   "outputs": [],
   "source": [
    "root = list_to_tree([1,2,3,4,5,null,6,7,null,null,null,null,8])"
   ]
  },
  {
   "cell_type": "code",
   "execution_count": null,
   "id": "d603ced6",
   "metadata": {},
   "outputs": [],
   "source": [
    "def deepestLeavesSum(root):\n",
    "    \"\"\"\n",
    "    :type root: TreeNode\n",
    "    :rtype: int\n",
    "    \"\"\"\n",
    "    def dfs1(root):\n",
    "        if not root: return 0\n",
    "        return max(dfs1(root.left), dfs1(root.right))+1\n",
    "    def dfs2(root, dep):\n",
    "        if not root: return\n",
    "        if dep == max_depth: total+= root.val\n",
    "        dfs2(root.left, dep+1)\n",
    "        dfs2(root.right, dep+1)\n",
    "    total=0\n",
    "    max_depth = dfs1(root)\n",
    "    dfs2(root, 1)\n",
    "    return max_depth"
   ]
  },
  {
   "cell_type": "code",
   "execution_count": null,
   "id": "d224c10e",
   "metadata": {},
   "outputs": [],
   "source": [
    "deepestLeavesSum(root)"
   ]
  },
  {
   "cell_type": "markdown",
   "id": "9f31364b-8f60-499d-b6a1-c03e62e16252",
   "metadata": {},
   "source": [
    "# Q200 number of island"
   ]
  },
  {
   "cell_type": "code",
   "execution_count": 24,
   "id": "85d1ec27-cc56-44d7-8a7b-8a0f7b46ef0f",
   "metadata": {},
   "outputs": [],
   "source": [
    "class Solution(object):\n",
    "    def numIslands(self, grid):\n",
    "        \"\"\"\n",
    "        :type grid: List[List[str]]\n",
    "        :rtype: int\n",
    "        \"\"\"\n",
    "        dict_grid = {}\n",
    "        for i, line in enumerate(grid):\n",
    "            for j,_ in enumerate(line):\n",
    "                if grid[i][j] == '1':\n",
    "                    dict_grid[(i,j)] = (i,j)\n",
    "        def explore(coord):\n",
    "            if coord:\n",
    "                i,j = coord\n",
    "                explore(dict_grid.pop((i+1,j),[]))\n",
    "                explore(dict_grid.pop((i-1,j),[]))\n",
    "                explore(dict_grid.pop((i,j+1),[]))\n",
    "                explore(dict_grid.pop((i,j-1),[]))\n",
    "        \n",
    "        island_count = 0\n",
    "        while dict_grid:\n",
    "            island_count += 1\n",
    "            v, __ = dict_grid.popitem()\n",
    "            explore(v)\n",
    "        return island_count"
   ]
  },
  {
   "cell_type": "code",
   "execution_count": 23,
   "id": "d4432190-11fd-4969-ac6d-9f13b13e3538",
   "metadata": {},
   "outputs": [
    {
     "data": {
      "text/plain": [
       "1"
      ]
     },
     "execution_count": 23,
     "metadata": {},
     "output_type": "execute_result"
    }
   ],
   "source": [
    "grid = [\n",
    "  [\"1\",\"1\",\"1\",\"1\",\"0\"],\n",
    "  [\"1\",\"1\",\"0\",\"1\",\"0\"],\n",
    "  [\"1\",\"1\",\"0\",\"0\",\"0\"],\n",
    "  [\"0\",\"0\",\"0\",\"0\",\"0\"]\n",
    "]\n",
    "Solution().numIslands(grid)"
   ]
  },
  {
   "cell_type": "markdown",
   "id": "b46673cc",
   "metadata": {
    "tags": [],
    "toc-hr-collapsed": true
   },
   "source": [
    "# DP + DFS"
   ]
  },
  {
   "cell_type": "markdown",
   "id": "41ac73e8",
   "metadata": {},
   "source": [
    "# DP-線性DP\n",
    "\n",
    "[1,2,4,3] -> 3  Take off any element, it can be incresing subsequence"
   ]
  },
  {
   "cell_type": "code",
   "execution_count": null,
   "id": "b3967da2",
   "metadata": {},
   "outputs": [],
   "source": [
    "# Sol 1, two ptr 去窮舉所有結果\n",
    "class Solution:\n",
    "    def lengthOfLIS(self, arr: List[int]) -> int:\n",
    "        dp = [1] * len(arr) #initalize \n",
    "        for i in range(len(arr)):\n",
    "            encounter = 0\n",
    "            for j in range(i):# i 其實是比最後一個 每次都去跟前面的比較 窮舉所有可能\n",
    "                print(i,j)\n",
    "                if arr[i] > arr[j]: \n",
    "                    encounter = max(encounter, dp[j]) #跟過去比較的結構, 利用memory\n",
    "            dp[i] = encounter + 1\n",
    "            print(f\"dp result {dp}\")\n",
    "        \n",
    "        return max(dp)"
   ]
  },
  {
   "cell_type": "code",
   "execution_count": null,
   "id": "00e94655",
   "metadata": {},
   "outputs": [],
   "source": [
    "Solution().lengthOfLIS([1,2,4,1])"
   ]
  },
  {
   "cell_type": "code",
   "execution_count": null,
   "id": "3b5e5d32",
   "metadata": {},
   "outputs": [],
   "source": [
    "#Sol 2, 進一步優化\n",
    "bisect.bisect_left([1,2,3],2)"
   ]
  },
  {
   "cell_type": "markdown",
   "id": "b717e4e1-9967-4b20-876f-3a7845480d29",
   "metadata": {},
   "source": [
    "# DP - 股票題 bottom up\n",
    "with fee"
   ]
  },
  {
   "cell_type": "code",
   "execution_count": 3,
   "id": "6c962e11-f818-432a-b899-b2da8963ef5e",
   "metadata": {},
   "outputs": [
    {
     "data": {
      "text/plain": [
       "8"
      ]
     },
     "execution_count": 3,
     "metadata": {},
     "output_type": "execute_result"
    }
   ],
   "source": [
    "# [period][0 是每有東西的意思, 1是有東西的意思]\n",
    "#\n",
    "#\n",
    "\n",
    "class Solution:\n",
    "    def maxProfit(self, prices, fee):\n",
    "        \"\"\"\n",
    "        :type prices: List[int]\n",
    "        :type fee: int\n",
    "        :rtype: int\n",
    "        \"\"\"\n",
    "        len_p = len(prices)\n",
    "    ## Data structure\n",
    "        mp = [[0,-99999]for i in range(len(prices)+1)]\n",
    "        \n",
    "    ## Inital Condition\n",
    "        mp[0][0] =0\n",
    "        mp[0][1] = float('-inf')\n",
    "    ## Rescusive structure\n",
    "        for i,p in enumerate(prices):\n",
    "            mp[i+1][0] = max(mp[i][0],mp[i][1]+p-fee)\n",
    "            mp[i+1][1] = max(mp[i][1],mp[i][0]-p)\n",
    "    \n",
    "        return max(mp[len_p][0],mp[len_p][1])\n",
    "    \n",
    "Solution().maxProfit([1,3,2,8,4,9],2)"
   ]
  },
  {
   "cell_type": "markdown",
   "id": "cbe4f2e6",
   "metadata": {},
   "source": [
    "# heap"
   ]
  },
  {
   "cell_type": "markdown",
   "id": "1be4c18a",
   "metadata": {},
   "source": [
    "## 1675. Minimize Deviation in Array\n",
    "\n",
    "給一個數字串\n",
    "兩個operation\n",
    "1. 偶數 /2 可以任選操作數量\n",
    "2. 基數 *2 可以任選操作數量\n",
    "\n",
    "然後經過若干的操作後 陣列裡頭的東西取最大差距, \n",
    "\n"
   ]
  },
  {
   "cell_type": "markdown",
   "id": "bf09d008",
   "metadata": {},
   "source": [
    "***解題思路***\n",
    "\n",
    "heapq 只有minimum這件事情一般都是透過 * -1 解決. heappop都是 pop 最大數字\n",
    "先把所有odd 變成even \n",
    "\n",
    "float('inf') 也是一個init condition 的trick\n",
    "\n",
    "difference 都是來自最大減最小\n",
    "拿最大/2 後如果變成最小．\n",
    "\n",
    "終止條件很有趣， 因為pop是一定會pop. 但是如果沒有變小機會push 不一定會push."
   ]
  },
  {
   "cell_type": "code",
   "execution_count": null,
   "id": "9fc418d9",
   "metadata": {},
   "outputs": [],
   "source": [
    "def minimumDeviation(self, A):\n",
    "    pq = []\n",
    "    for a in A:\n",
    "        heapq.heappush(pq, -a * 2 if a % 2 else -a)\n",
    "    res = float('inf')\n",
    "    mi = -max(pq)\n",
    "    while len(pq) == len(A):\n",
    "        a = -heapq.heappop(pq)\n",
    "        res = min(res, a - mi)\n",
    "        if a % 2 == 0:\n",
    "            mi = min(mi, a / 2)\n",
    "            heapq.heappush(pq, -a / 2)\n",
    "    return res"
   ]
  },
  {
   "cell_type": "markdown",
   "id": "73f82c80",
   "metadata": {},
   "source": [
    "# Basic data structure"
   ]
  },
  {
   "cell_type": "markdown",
   "id": "d983b557",
   "metadata": {},
   "source": [
    "## Heap"
   ]
  },
  {
   "cell_type": "code",
   "execution_count": null,
   "id": "3be74ebb",
   "metadata": {},
   "outputs": [],
   "source": [
    "b4_heap = [2,3,1]"
   ]
  },
  {
   "cell_type": "code",
   "execution_count": null,
   "id": "80699aac",
   "metadata": {},
   "outputs": [],
   "source": [
    "heapq.heapify(b4_heap)"
   ]
  },
  {
   "cell_type": "code",
   "execution_count": null,
   "id": "136006d1",
   "metadata": {},
   "outputs": [],
   "source": [
    "b4_heap\n",
    "# 跟bst 不同 , 左子樹可以>右子數\n",
    "# 是個inplace操作, 但是操作完還是list "
   ]
  },
  {
   "cell_type": "code",
   "execution_count": null,
   "id": "85a5a361",
   "metadata": {},
   "outputs": [],
   "source": [
    "heapq.heappop(b4_heap)"
   ]
  },
  {
   "cell_type": "markdown",
   "id": "3a28c037",
   "metadata": {
    "tags": []
   },
   "source": [
    "## Bisect"
   ]
  },
  {
   "cell_type": "code",
   "execution_count": 52,
   "id": "91181770-4d72-4cbd-9b2d-8303101de29d",
   "metadata": {},
   "outputs": [],
   "source": [
    "def binary_search(array) -> int:\n",
    "    def condition(value) -> bool:\n",
    "        pass\n",
    "\n",
    "    left, right = min(search_space), max(search_space) # could be [0, n], [1, n] etc. Depends on problem\n",
    "    while left < right:\n",
    "        mid = left + (right - left) // 2\n",
    "        if condition(mid):\n",
    "            right = mid\n",
    "        else:\n",
    "            left = mid + 1\n",
    "    return left"
   ]
  },
  {
   "cell_type": "markdown",
   "id": "414924fc-7c89-4012-a831-73424dc8a076",
   "metadata": {},
   "source": [
    "### get squart"
   ]
  },
  {
   "cell_type": "code",
   "execution_count": 61,
   "id": "9713537b-2659-4673-9af9-09d7b714d091",
   "metadata": {},
   "outputs": [],
   "source": [
    "i = 10\n",
    "\n",
    "\n",
    "def binary_search(x) -> int:\n",
    "\n",
    "    left, right = 0, x+1\n",
    "    while left < right:\n",
    "        mid = left + (right - left) // 2\n",
    "        if mid*mid > x:\n",
    "            right = mid\n",
    "        else:\n",
    "            left = mid + 1\n",
    "    return left-1"
   ]
  },
  {
   "cell_type": "markdown",
   "id": "2c523059-a5ef-47db-993a-9391135c4321",
   "metadata": {},
   "source": [
    "### find left "
   ]
  },
  {
   "cell_type": "code",
   "execution_count": 91,
   "id": "39b3ed60-8932-4a46-bc4b-164166cd009d",
   "metadata": {},
   "outputs": [],
   "source": [
    "def binary_search(array,x) -> int:\n",
    "    \n",
    "    left, right = 0, len(array)\n",
    "    while left < right:\n",
    "        mid = left + (right - left) // 2\n",
    "        if array[mid] >= x:\n",
    "            right = mid\n",
    "        else:\n",
    "            left = mid + 1\n",
    "    return left"
   ]
  },
  {
   "cell_type": "code",
   "execution_count": 98,
   "id": "550b121c-1c2e-462b-bf78-1dc965cf8498",
   "metadata": {},
   "outputs": [
    {
     "data": {
      "text/plain": [
       "4"
      ]
     },
     "execution_count": 98,
     "metadata": {},
     "output_type": "execute_result"
    }
   ],
   "source": [
    "binary_search([1,3,3,3],4)\n"
   ]
  },
  {
   "cell_type": "code",
   "execution_count": null,
   "id": "d181d198-0220-4791-8bb6-62af375e3d62",
   "metadata": {},
   "outputs": [],
   "source": []
  }
 ],
 "metadata": {
  "kernelspec": {
   "display_name": "Python 3 (ipykernel)",
   "language": "python",
   "name": "python3"
  },
  "language_info": {
   "codemirror_mode": {
    "name": "ipython",
    "version": 3
   },
   "file_extension": ".py",
   "mimetype": "text/x-python",
   "name": "python",
   "nbconvert_exporter": "python",
   "pygments_lexer": "ipython3",
   "version": "3.9.7"
  }
 },
 "nbformat": 4,
 "nbformat_minor": 5
}
